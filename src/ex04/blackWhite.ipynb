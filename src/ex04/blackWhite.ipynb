{
 "cells": [
  {
   "cell_type": "code",
   "execution_count": 14,
   "metadata": {},
   "outputs": [],
   "source": [
    "import cv2, numpy as np\n",
    "import sys, os\n",
    "import matplotlib.pyplot as plt\n",
    "import copy\n",
    "from PIL import Image\n",
    "import math\n",
    "\n",
    "PI = np.pi"
   ]
  },
  {
   "cell_type": "code",
   "execution_count": 16,
   "metadata": {},
   "outputs": [],
   "source": [
    "def image_resize(image, width = None, height = None, inter = cv2.INTER_AREA):\n",
    "    # initialize the dimensions of the image to be resized and\n",
    "    # grab the image size\n",
    "    dim = None\n",
    "    (h, w) = image.shape[:2]\n",
    "\n",
    "    # if both the width and height are None, then return the\n",
    "    # original image\n",
    "    if width is None and height is None:\n",
    "        return image\n",
    "\n",
    "    # check to see if the width is None\n",
    "    if width is None:\n",
    "        # calculate the ratio of the height and construct the\n",
    "        # dimensions\n",
    "        r = height / float(h)\n",
    "        dim = (int(w * r), height)\n",
    "\n",
    "    # otherwise, the height is None\n",
    "    else:\n",
    "        # calculate the ratio of the width and construct the\n",
    "        # dimensions\n",
    "        r = width / float(w)\n",
    "        dim = (width, int(h * r))\n",
    "\n",
    "    # resize the image\n",
    "    resized = cv2.resize(image, dim, interpolation = inter)\n",
    "\n",
    "    # return the resized image\n",
    "    return resized"
   ]
  },
  {
   "cell_type": "code",
   "execution_count": 84,
   "metadata": {},
   "outputs": [],
   "source": [
    " def flat_field_correction (img):\n",
    "    orig_shape = img.shape\n",
    "    print (orig_shape)\n",
    "    flat = cv2.medianBlur (img, 21)\n",
    "    flat_mean = cv2.mean (flat)\n",
    "    # out = (img.dot (flat_mean [:3]))\n",
    "    # display_img (flat)\n",
    "    # display_img (out)\n",
    "    yuv = cv2.cvtColor (img, cv2.COLOR_BGR2YUV)\n",
    "    equ = yuv.copy()\n",
    "\n",
    "    equ[..., 0] = cv2.equalizeHist(yuv[..., 0])\n",
    "    clahe = cv2.createCLAHE(clipLimit=2.0, tileGridSize=(12,12))\n",
    "    clahe_out = yuv.copy()\n",
    "    clahe_out[..., 0] = clahe.apply (yuv[..., 0])\n",
    "\n",
    "    equ = cv2.cvtColor (equ, cv2.COLOR_YUV2BGR)\n",
    "    clahe_out = cv2.cvtColor (clahe_out, cv2.COLOR_YUV2BGR)\n",
    "\n",
    "    cv2.imshow ('original', img)\n",
    "    cv2.waitKey(0)\n",
    "    cv2.imshow ('hist eq', equ)\n",
    "    cv2.waitKey(0)\n",
    "    cv2.imshow ('clahe', clahe_out)\n",
    "    cv2.waitKey(0)\n",
    "    cv2.destroyAllWindows()\n",
    "    cv2.imwrite ('images/clahe.jpg', clahe_out)\n",
    "    # display_img (flat)\n",
    "    # print (cv2.mean(flat))\n",
    "    # C = (img * mean(F)) ./ F\n",
    "    "
   ]
  },
  {
   "cell_type": "code",
   "execution_count": 85,
   "metadata": {
    "tags": []
   },
   "outputs": [
    {
     "output_type": "stream",
     "name": "stdout",
     "text": "(1098, 1536, 3)\n"
    }
   ],
   "source": [
    "img_name = '../../data/img_16.jpg'\n",
    "original_img = cv2.imread (img_name, cv2.IMREAD_UNCHANGED)\n",
    "original_img = image_resize(original_img, width=1536)\n",
    "gray = cv2.cvtColor (original_img, cv2.COLOR_BGR2GRAY)\n",
    "flat_field_correction (original_img)\n"
   ]
  }
 ],
 "metadata": {
  "language_info": {
   "codemirror_mode": {
    "name": "ipython",
    "version": 3
   },
   "file_extension": ".py",
   "mimetype": "text/x-python",
   "name": "python",
   "nbconvert_exporter": "python",
   "pygments_lexer": "ipython3",
   "version": "3.7.3-final"
  },
  "orig_nbformat": 2,
  "kernelspec": {
   "name": "python37364bitaicondaf8d123dca0c74211aa537c99451babe0",
   "display_name": "Python 3.7.3 64-bit ('ai': conda)"
  }
 },
 "nbformat": 4,
 "nbformat_minor": 2
}