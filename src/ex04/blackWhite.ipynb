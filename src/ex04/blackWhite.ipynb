{
 "cells": [
  {
   "cell_type": "code",
   "execution_count": 14,
   "metadata": {},
   "outputs": [],
   "source": [
    "import cv2, numpy as np\n",
    "import sys, os\n",
    "import matplotlib.pyplot as plt\n",
    "import copy\n",
    "from PIL import Image\n",
    "import math\n",
    "\n",
    "PI = np.pi"
   ]
  },
  {
   "cell_type": "code",
   "execution_count": 16,
   "metadata": {},
   "outputs": [],
   "source": [
    "def image_resize(image, width = None, height = None, inter = cv2.INTER_AREA):\n",
    "    dim = None\n",
    "    (h, w) = image.shape[:2]\n",
    "    if width is None and height is None:\n",
    "        return image\n",
    "    if width is None:\n",
    "        r = height / float(h)\n",
    "        dim = (int(w * r), height)\n",
    "    else:\n",
    "        r = width / float(w)\n",
    "        dim = (width, int(h * r))\n",
    "    resized = cv2.resize(image, dim, interpolation = inter)\n",
    "    return resized"
   ]
  },
  {
   "cell_type": "code",
   "execution_count": 105,
   "metadata": {},
   "outputs": [],
   "source": [
    "def apply_clahe (img, clipLimit=2.0, tileGridSize=(12, 12)):\n",
    "    yuv = cv2.cvtColor (img, cv2.COLOR_BGR2YUV)\n",
    "    clahe = cv2.createCLAHE(clipLimit=clipLimit, tileGridSize=tileGridSize)\n",
    "    clahe_out = yuv.copy()\n",
    "    clahe_out[..., 0] = clahe.apply (yuv[..., 0])\n",
    "    clahe_out = cv2.cvtColor (clahe_out, cv2.COLOR_YUV2BGR)\n",
    "    return clahe_out\n"
   ]
  },
  {
   "cell_type": "code",
   "execution_count": 181,
   "metadata": {},
   "outputs": [],
   "source": [
    "def increase_contrast (img, val=2):\n",
    "    new_img = np.array (img, dtype=np.float64)\n",
    "    new_img = np.clip (new_img * val, 0, 255)\n",
    "    img[...] = new_img[...]\n",
    "    return img"
   ]
  },
  {
   "cell_type": "code",
   "execution_count": 118,
   "metadata": {},
   "outputs": [],
   "source": [
    "def increase_brightness(img, value=30):\n",
    "    hsv = cv2.cvtColor(img, cv2.COLOR_BGR2HSV)\n",
    "    h, s, v = cv2.split(hsv)\n",
    "\n",
    "    lim = 255 - value\n",
    "    v[v > lim] = 255\n",
    "    v[v <= lim] += value\n",
    "\n",
    "    final_hsv = cv2.merge((h, s, v))\n",
    "    img = cv2.cvtColor(final_hsv, cv2.COLOR_HSV2BGR)\n",
    "    return img"
   ]
  },
  {
   "cell_type": "code",
   "execution_count": 132,
   "metadata": {},
   "outputs": [],
   "source": [
    " def flat_field_correction (img, kernel_size=21):\n",
    "    orig_shape = img.shape\n",
    "    flat = cv2.medianBlur (img, kernel_size)\n",
    "    cv2.imwrite ('images/flat.jpg', flat)\n",
    "    flat_mean = cv2.mean (flat)\n",
    "    out = img.copy()\n",
    "    for i in range (3):\n",
    "        out[..., i] = np.divide (img[..., i] * flat_mean[i], flat[..., i])\n",
    "    # cv2.imshow ('flat_out', out)\n",
    "    # cv2.waitKey(0)\n",
    "    # cv2.destroyAllWindows()\n",
    "    return out\n",
    "    "
   ]
  },
  {
   "cell_type": "code",
   "execution_count": 182,
   "metadata": {
    "tags": []
   },
   "outputs": [
    {
     "output_type": "execute_result",
     "data": {
      "text/plain": "True"
     },
     "metadata": {},
     "execution_count": 182
    }
   ],
   "source": [
    "img_name = '../../data/img_16.jpg'\n",
    "original_img = cv2.imread (img_name, cv2.IMREAD_UNCHANGED)\n",
    "original_img = image_resize(original_img, width=1536)\n",
    "gray = cv2.cvtColor (original_img, cv2.COLOR_BGR2GRAY)\n",
    "# clahe_out = apply_clahe (original_img, 2.0, (21, 21))\n",
    "# cv2.imwrite ('images/clahe_on_orig.jpg', clahe_out)\n",
    "flat_out = flat_field_correction (original_img, 111)\n",
    "cv2.imwrite ('images/clahe_flat.jpg', flat_out)\n",
    "clahe_out = increase_contrast (flat_out, 1.5)\n",
    "cv2.imwrite ('images/clahe_on_flat.jpg', clahe_out)\n",
    "# orig_bright = increase_brightness (original_img, 30)\n",
    "# cv2.imwrite ('images/clahe_orig_bright.jpg', orig_bright)\n",
    "bright = increase_contrast (original_img, 1.5)\n",
    "cv2.imwrite ('images/clahe_original_bright.jpg', bright)\n"
   ]
  }
 ],
 "metadata": {
  "language_info": {
   "codemirror_mode": {
    "name": "ipython",
    "version": 3
   },
   "file_extension": ".py",
   "mimetype": "text/x-python",
   "name": "python",
   "nbconvert_exporter": "python",
   "pygments_lexer": "ipython3",
   "version": "3.7.3-final"
  },
  "orig_nbformat": 2,
  "kernelspec": {
   "name": "python37364bitaicondaf8d123dca0c74211aa537c99451babe0",
   "display_name": "Python 3.7.3 64-bit ('ai': conda)"
  }
 },
 "nbformat": 4,
 "nbformat_minor": 2
}